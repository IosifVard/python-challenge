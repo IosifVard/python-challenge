{
 "cells": [
  {
   "cell_type": "code",
   "execution_count": 21,
   "id": "99eff899-c659-499d-88d2-a4b79c8e8103",
   "metadata": {},
   "outputs": [],
   "source": [
    " # Import the pandas library\n",
    "import pandas as pd\n",
    "import csv"
   ]
  },
  {
   "cell_type": "code",
   "execution_count": 22,
   "id": "c71b2766-e1c0-46c6-95a0-2a8fff514f91",
   "metadata": {},
   "outputs": [],
   "source": [
    "# Load the dataset\n",
    "election_data = pd.read_csv('../PyPoll/Resources/election_data.csv')"
   ]
  },
  {
   "cell_type": "code",
   "execution_count": 23,
   "id": "fcba4eba-6017-4233-bb39-84c22c7ade56",
   "metadata": {},
   "outputs": [],
   "source": [
    "# Calculate the total number of votes cast\n",
    "total_votes = election_data['Ballot ID'].nunique()\n"
   ]
  },
  {
   "cell_type": "code",
   "execution_count": 24,
   "id": "cf37b661-3f3a-43ba-8909-6bb90a8cf2e6",
   "metadata": {},
   "outputs": [],
   "source": [
    "# Create a complete list of candidates who received votes\n",
    "candidates = election_data['Candidate'].unique()"
   ]
  },
  {
   "cell_type": "code",
   "execution_count": 25,
   "id": "da9cc6f1-290b-4297-8359-a1c87e53a200",
   "metadata": {},
   "outputs": [],
   "source": [
    "# Calculate the total number of votes each candidate won\n",
    "vote_counts = election_data['Candidate'].value_counts()"
   ]
  },
  {
   "cell_type": "code",
   "execution_count": 26,
   "id": "2e443266-5e1c-44e7-a8c5-245acb553c32",
   "metadata": {},
   "outputs": [],
   "source": [
    "# Calculate the percentage of votes each candidate won\n",
    "vote_percentages = (vote_counts / total_votes) * 100"
   ]
  },
  {
   "cell_type": "code",
   "execution_count": 27,
   "id": "542e4f6d-67a2-4cef-895e-975d62d38137",
   "metadata": {},
   "outputs": [],
   "source": [
    "# Determine the winner of the election based on popular vote\n",
    "winner = vote_counts.idxmax()"
   ]
  },
  {
   "cell_type": "code",
   "execution_count": 28,
   "id": "1b1304a6-2b92-49c4-b79b-ff003f00f1ee",
   "metadata": {},
   "outputs": [
    {
     "name": "stdout",
     "output_type": "stream",
     "text": [
      "Election Results\n",
      "-------------------------\n",
      "Total Votes: 369711\n",
      "-------------------------\n",
      "Charles Casper Stockham: 23.049% (85213)\n",
      "Diana DeGette: 73.812% (272892)\n",
      "Raymon Anthony Doane: 3.139% (11606)\n",
      "-------------------------\n",
      "Winner: Diana DeGette\n",
      "-------------------------\n"
     ]
    }
   ],
   "source": [
    "# Print the election results\n",
    "print(\"Election Results\")\n",
    "print(\"-------------------------\")\n",
    "print(f\"Total Votes: {total_votes}\")\n",
    "print(\"-------------------------\")\n",
    "for candidate in candidates:\n",
    "    print(f\"{candidate}: {vote_percentages[candidate]:.3f}% ({vote_counts[candidate]})\")\n",
    "print(\"-------------------------\")\n",
    "print(f\"Winner: {winner}\")\n",
    "print(\"-------------------------\")"
   ]
  },
  {
   "cell_type": "code",
   "execution_count": 29,
   "id": "afce73c2-27ee-43b6-b1e0-3e034c8f765d",
   "metadata": {},
   "outputs": [
    {
     "name": "stdout",
     "output_type": "stream",
     "text": [
      "Election results have been saved to election_results.txt\n"
     ]
    }
   ],
   "source": [
    "# save the results to a text file\n",
    "output_file_path = 'election_results.txt'\n",
    "with open(output_file_path, 'w') as file:\n",
    "    file.write(\"Election Results\\n\")\n",
    "    file.write(\"-------------------------\\n\")\n",
    "    file.write(f\"Total Votes: {total_votes}\\n\")\n",
    "    file.write(\"-------------------------\\n\")\n",
    "    for candidate in candidates:\n",
    "        file.write(f\"{candidate}: {vote_percentages[candidate]:.3f}% ({vote_counts[candidate]})\\n\")\n",
    "    file.write(\"-------------------------\\n\")\n",
    "    file.write(f\"Winner: {winner}\\n\")\n",
    "    file.write(\"-------------------------\\n\")\n",
    "\n",
    "print(f\"Election results have been saved to {output_file_path}\")"
   ]
  },
  {
   "cell_type": "code",
   "execution_count": null,
   "id": "c7c6ef0d-dc65-4170-8164-e42242831238",
   "metadata": {},
   "outputs": [],
   "source": []
  }
 ],
 "metadata": {
  "kernelspec": {
   "display_name": "Python 3 (ipykernel)",
   "language": "python",
   "name": "python3"
  },
  "language_info": {
   "codemirror_mode": {
    "name": "ipython",
    "version": 3
   },
   "file_extension": ".py",
   "mimetype": "text/x-python",
   "name": "python",
   "nbconvert_exporter": "python",
   "pygments_lexer": "ipython3",
   "version": "3.11.7"
  }
 },
 "nbformat": 4,
 "nbformat_minor": 5
}
