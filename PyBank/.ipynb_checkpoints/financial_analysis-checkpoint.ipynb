{
 "cells": [
  {
   "cell_type": "code",
   "execution_count": 35,
   "id": "1e38d505-1ecf-4fbb-86d5-826fe07cca42",
   "metadata": {},
   "outputs": [],
   "source": [
    " # Import the pandas library\n",
    "import pandas as pd\n",
    "import csv"
   ]
  },
  {
   "cell_type": "code",
   "execution_count": 36,
   "id": "625fc00a-c331-489d-b248-4b918837d010",
   "metadata": {},
   "outputs": [],
   "source": [
    "# Load the dataset\n",
    "budget_data = pd.read_csv('../PyBank/Resources/budget_data.csv')"
   ]
  },
  {
   "cell_type": "code",
   "execution_count": 37,
   "id": "69661152-9aa8-414e-b4ab-59ab14ff62df",
   "metadata": {},
   "outputs": [],
   "source": [
    "# Calculate the total number of months included in the dataset\n",
    "total_months = budget_data['Date'].nunique()"
   ]
  },
  {
   "cell_type": "code",
   "execution_count": 38,
   "id": "0427355e-bf41-4676-85c7-0242dfff640a",
   "metadata": {},
   "outputs": [],
   "source": [
    "# Calculate the net total amount of \"Profit/Losses\" over the entire period\n",
    "net_total = budget_data['Profit/Losses'].sum()"
   ]
  },
  {
   "cell_type": "code",
   "execution_count": 39,
   "id": "9cfa697c-95cc-471b-a0d9-eb558655efc0",
   "metadata": {},
   "outputs": [],
   "source": [
    "# Calculate the changes in \"Profit/Losses\" over the entire period and the average of those changes\n",
    "budget_data['Change'] = budget_data['Profit/Losses'].diff()\n",
    "average_change = budget_data['Change'].mean()"
   ]
  },
  {
   "cell_type": "code",
   "execution_count": 40,
   "id": "6de4b094-4bdf-47bb-b1b0-64b3d9af2c49",
   "metadata": {},
   "outputs": [],
   "source": [
    "# Find the greatest increase in profits (date and amount) over the entire period\n",
    "greatest_increase = budget_data.loc[budget_data['Change'].idxmax()]"
   ]
  },
  {
   "cell_type": "code",
   "execution_count": 41,
   "id": "f53f7916-0a1a-482d-bbb0-ddeb98871cfa",
   "metadata": {},
   "outputs": [],
   "source": [
    "# Find the greatest decrease in profits (date and amount) over the entire period\n",
    "greatest_decrease = budget_data.loc[budget_data['Change'].idxmin()]"
   ]
  },
  {
   "cell_type": "code",
   "execution_count": 42,
   "id": "44cbe5f2-eb84-4663-96f1-9aeb5be38532",
   "metadata": {},
   "outputs": [],
   "source": [
    "# Prepare the analysis results as a formatted string\n",
    "analysis_results = (\n",
    "    f\"Financial Analysis\\n\"\n",
    "    f\"----------------------------\\n\"\n",
    "    f\"Total Months: {total_months}\\n\"\n",
    "    f\"Total: ${net_total}\\n\"\n",
    "    f\"Average Change: ${average_change:.2f}\\n\"\n",
    "    f\"Greatest Increase in Profits: {greatest_increase['Date']} (${greatest_increase['Change']:.2f})\\n\"\n",
    "    f\"Greatest Decrease in Profits: {greatest_decrease['Date']} (${greatest_decrease['Change']:.2f})\\n\")\n"
   ]
  },
  {
   "cell_type": "code",
   "execution_count": 33,
   "id": "6ada4a1c-ce59-4ece-a430-6992757e4cb6",
   "metadata": {},
   "outputs": [
    {
     "name": "stdout",
     "output_type": "stream",
     "text": [
      "Financial Analysis\n",
      "----------------------------\n",
      "Total Months: 86\n",
      "Total: $22564198\n",
      "Average Change: $-8311.11\n",
      "Greatest Increase in Profits: Aug-16 ($1862002.00)\n",
      "Greatest Decrease in Profits: Feb-14 ($-1825558.00)\n",
      "\n"
     ]
    }
   ],
   "source": [
    "print(analysis_results)"
   ]
  },
  {
   "cell_type": "code",
   "execution_count": 34,
   "id": "5b652610-4353-4ddd-9f85-37a92aee61bd",
   "metadata": {},
   "outputs": [],
   "source": [
    "# Export the analysis to a text file\n",
    "output_file_path = 'financial_analysis.txt'\n",
    "with open(output_file_path, 'w') as file:\n",
    "    file.write(analysis_results)"
   ]
  },
  {
   "cell_type": "code",
   "execution_count": null,
   "id": "7be1224d-8808-4fe0-ab9e-dbc5ce710d4e",
   "metadata": {},
   "outputs": [],
   "source": []
  }
 ],
 "metadata": {
  "kernelspec": {
   "display_name": "Python 3 (ipykernel)",
   "language": "python",
   "name": "python3"
  },
  "language_info": {
   "codemirror_mode": {
    "name": "ipython",
    "version": 3
   },
   "file_extension": ".py",
   "mimetype": "text/x-python",
   "name": "python",
   "nbconvert_exporter": "python",
   "pygments_lexer": "ipython3",
   "version": "3.11.7"
  }
 },
 "nbformat": 4,
 "nbformat_minor": 5
}
